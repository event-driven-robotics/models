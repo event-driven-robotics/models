{
 "cells": [
  {
   "cell_type": "code",
   "execution_count": null,
   "metadata": {},
   "outputs": [],
   "source": [
    "# Copyright © 2018-2021 Intel Corporation All rights reserved.\n",
    "#\n",
    "# Redistribution and use in source and binary forms, with or without\n",
    "# modification, are permitted provided that the following conditions\n",
    "# are met:\n",
    "#   * Redistributions of source code must retain the above copyright\n",
    "#     notice, this list of conditions and the following disclaimer.\n",
    "#   * Redistributions in binary form must reproduce the above copyright\n",
    "#     notice, this list of conditions and the following disclaimer in\n",
    "#     the documentation and/or other materials provided with the\n",
    "#     distribution.\n",
    "#   * Neither the name of Intel Corporation nor the names of its\n",
    "#     contributors may be used to endorse or promote products derived\n",
    "#     from this software without specific prior written permission.\n",
    "#\n",
    "# THIS SOFTWARE IS PROVIDED BY THE COPYRIGHT HOLDERS AND CONTRIBUTORS\n",
    "# \"AS IS\" AND ANY EXPRESS OR IMPLIED WARRANTIES, INCLUDING, BUT NOT\n",
    "# LIMITED TO, THE IMPLIED WARRANTIES OF MERCHANTABILITY AND FITNESS FOR\n",
    "# A PARTICULAR PURPOSE ARE DISCLAIMED. IN NO EVENT SHALL THE COPYRIGHT\n",
    "# OWNER OR CONTRIBUTORS BE LIABLE FOR ANY DIRECT, INDIRECT, INCIDENTAL,\n",
    "# SPECIAL, EXEMPLARY, OR CONSEQUENTIAL DAMAGES (INCLUDING, BUT NOT\n",
    "# LIMITED TO, PROCUREMENT OF SUBSTITUTE GOODS OR SERVICES; LOSS OF USE,\n",
    "# DATA, OR PROFITS; OR BUSINESS INTERRUPTION) HOWEVER CAUSED AND ON ANY\n",
    "# THEORY OF LIABILITY, WHETHER IN CONTRACT, STRICT LIABILITY, OR TORT\n",
    "# (INCLUDING NEGLIGENCE OR OTHERWISE) ARISING IN ANY WAY OUT OF THE USE\n",
    "# OF THIS SOFTWARE, EVEN IF ADVISED OF THE POSSIBILITY OF SUCH DAMAGE."
   ]
  },
  {
   "cell_type": "code",
   "execution_count": null,
   "metadata": {},
   "outputs": [],
   "source": []
  },
  {
   "cell_type": "code",
   "execution_count": 1,
   "metadata": {
    "scrolled": true
   },
   "outputs": [
    {
     "name": "stderr",
     "output_type": "stream",
     "text": [
      "/home/pplank/miniconda3/envs/py36_tf_14_gpu/lib/python3.6/site-packages/tensorflow/python/framework/dtypes.py:516: FutureWarning: Passing (type, 1) or '1type' as a synonym of type is deprecated; in a future version of numpy, it will be understood as (type, (1,)) / '(1,)type'.\n",
      "  _np_qint8 = np.dtype([(\"qint8\", np.int8, 1)])\n",
      "/home/pplank/miniconda3/envs/py36_tf_14_gpu/lib/python3.6/site-packages/tensorflow/python/framework/dtypes.py:517: FutureWarning: Passing (type, 1) or '1type' as a synonym of type is deprecated; in a future version of numpy, it will be understood as (type, (1,)) / '(1,)type'.\n",
      "  _np_quint8 = np.dtype([(\"quint8\", np.uint8, 1)])\n",
      "/home/pplank/miniconda3/envs/py36_tf_14_gpu/lib/python3.6/site-packages/tensorflow/python/framework/dtypes.py:518: FutureWarning: Passing (type, 1) or '1type' as a synonym of type is deprecated; in a future version of numpy, it will be understood as (type, (1,)) / '(1,)type'.\n",
      "  _np_qint16 = np.dtype([(\"qint16\", np.int16, 1)])\n",
      "/home/pplank/miniconda3/envs/py36_tf_14_gpu/lib/python3.6/site-packages/tensorflow/python/framework/dtypes.py:519: FutureWarning: Passing (type, 1) or '1type' as a synonym of type is deprecated; in a future version of numpy, it will be understood as (type, (1,)) / '(1,)type'.\n",
      "  _np_quint16 = np.dtype([(\"quint16\", np.uint16, 1)])\n",
      "/home/pplank/miniconda3/envs/py36_tf_14_gpu/lib/python3.6/site-packages/tensorflow/python/framework/dtypes.py:520: FutureWarning: Passing (type, 1) or '1type' as a synonym of type is deprecated; in a future version of numpy, it will be understood as (type, (1,)) / '(1,)type'.\n",
      "  _np_qint32 = np.dtype([(\"qint32\", np.int32, 1)])\n",
      "/home/pplank/miniconda3/envs/py36_tf_14_gpu/lib/python3.6/site-packages/tensorflow/python/framework/dtypes.py:525: FutureWarning: Passing (type, 1) or '1type' as a synonym of type is deprecated; in a future version of numpy, it will be understood as (type, (1,)) / '(1,)type'.\n",
      "  np_resource = np.dtype([(\"resource\", np.ubyte, 1)])\n",
      "/home/pplank/.local/lib/python3.6/site-packages/tensorboard/compat/tensorflow_stub/dtypes.py:541: FutureWarning: Passing (type, 1) or '1type' as a synonym of type is deprecated; in a future version of numpy, it will be understood as (type, (1,)) / '(1,)type'.\n",
      "  _np_qint8 = np.dtype([(\"qint8\", np.int8, 1)])\n",
      "/home/pplank/.local/lib/python3.6/site-packages/tensorboard/compat/tensorflow_stub/dtypes.py:542: FutureWarning: Passing (type, 1) or '1type' as a synonym of type is deprecated; in a future version of numpy, it will be understood as (type, (1,)) / '(1,)type'.\n",
      "  _np_quint8 = np.dtype([(\"quint8\", np.uint8, 1)])\n",
      "/home/pplank/.local/lib/python3.6/site-packages/tensorboard/compat/tensorflow_stub/dtypes.py:543: FutureWarning: Passing (type, 1) or '1type' as a synonym of type is deprecated; in a future version of numpy, it will be understood as (type, (1,)) / '(1,)type'.\n",
      "  _np_qint16 = np.dtype([(\"qint16\", np.int16, 1)])\n",
      "/home/pplank/.local/lib/python3.6/site-packages/tensorboard/compat/tensorflow_stub/dtypes.py:544: FutureWarning: Passing (type, 1) or '1type' as a synonym of type is deprecated; in a future version of numpy, it will be understood as (type, (1,)) / '(1,)type'.\n",
      "  _np_quint16 = np.dtype([(\"quint16\", np.uint16, 1)])\n",
      "/home/pplank/.local/lib/python3.6/site-packages/tensorboard/compat/tensorflow_stub/dtypes.py:545: FutureWarning: Passing (type, 1) or '1type' as a synonym of type is deprecated; in a future version of numpy, it will be understood as (type, (1,)) / '(1,)type'.\n",
      "  _np_qint32 = np.dtype([(\"qint32\", np.int32, 1)])\n",
      "/home/pplank/.local/lib/python3.6/site-packages/tensorboard/compat/tensorflow_stub/dtypes.py:550: FutureWarning: Passing (type, 1) or '1type' as a synonym of type is deprecated; in a future version of numpy, it will be understood as (type, (1,)) / '(1,)type'.\n",
      "  np_resource = np.dtype([(\"resource\", np.ubyte, 1)])\n"
     ]
    }
   ],
   "source": [
    "import tensorflow as tf\n",
    "from tensorflow.contrib import rnn\n",
    "import time\n",
    "import subprocess\n",
    "import numpy as np\n",
    "import matplotlib.pyplot as plt"
   ]
  },
  {
   "cell_type": "code",
   "execution_count": 2,
   "metadata": {
    "scrolled": true
   },
   "outputs": [
    {
     "name": "stdout",
     "output_type": "stream",
     "text": [
      "WARNING:tensorflow:From <ipython-input-2-d421ae25a724>:3: read_data_sets (from tensorflow.contrib.learn.python.learn.datasets.mnist) is deprecated and will be removed in a future version.\n",
      "Instructions for updating:\n",
      "Please use alternatives such as official/mnist/dataset.py from tensorflow/models.\n",
      "WARNING:tensorflow:From /home/pplank/miniconda3/envs/py36_tf_14_gpu/lib/python3.6/site-packages/tensorflow/contrib/learn/python/learn/datasets/mnist.py:260: maybe_download (from tensorflow.contrib.learn.python.learn.datasets.base) is deprecated and will be removed in a future version.\n",
      "Instructions for updating:\n",
      "Please write your own downloading logic.\n",
      "WARNING:tensorflow:From /home/pplank/miniconda3/envs/py36_tf_14_gpu/lib/python3.6/site-packages/tensorflow/contrib/learn/python/learn/datasets/mnist.py:262: extract_images (from tensorflow.contrib.learn.python.learn.datasets.mnist) is deprecated and will be removed in a future version.\n",
      "Instructions for updating:\n",
      "Please use tf.data to implement this functionality.\n",
      "Extracting /tmp/data/train-images-idx3-ubyte.gz\n",
      "WARNING:tensorflow:From /home/pplank/miniconda3/envs/py36_tf_14_gpu/lib/python3.6/site-packages/tensorflow/contrib/learn/python/learn/datasets/mnist.py:267: extract_labels (from tensorflow.contrib.learn.python.learn.datasets.mnist) is deprecated and will be removed in a future version.\n",
      "Instructions for updating:\n",
      "Please use tf.data to implement this functionality.\n",
      "Extracting /tmp/data/train-labels-idx1-ubyte.gz\n",
      "WARNING:tensorflow:From /home/pplank/miniconda3/envs/py36_tf_14_gpu/lib/python3.6/site-packages/tensorflow/contrib/learn/python/learn/datasets/mnist.py:110: dense_to_one_hot (from tensorflow.contrib.learn.python.learn.datasets.mnist) is deprecated and will be removed in a future version.\n",
      "Instructions for updating:\n",
      "Please use tf.one_hot on tensors.\n",
      "Extracting /tmp/data/t10k-images-idx3-ubyte.gz\n",
      "Extracting /tmp/data/t10k-labels-idx1-ubyte.gz\n",
      "WARNING:tensorflow:From /home/pplank/miniconda3/envs/py36_tf_14_gpu/lib/python3.6/site-packages/tensorflow/contrib/learn/python/learn/datasets/mnist.py:290: DataSet.__init__ (from tensorflow.contrib.learn.python.learn.datasets.mnist) is deprecated and will be removed in a future version.\n",
      "Instructions for updating:\n",
      "Please use alternatives such as official/mnist/dataset.py from tensorflow/models.\n"
     ]
    }
   ],
   "source": [
    "# Import MNIST data\n",
    "from tensorflow.examples.tutorials.mnist import input_data\n",
    "mnist = input_data.read_data_sets(\"/tmp/data/\", one_hot=True)\n",
    "\n",
    "# Network Parameters\n",
    "num_input = 1 # MNIST data input (img shape: 28*28)\n",
    "timesteps = 28*28 # timesteps\n",
    "\n",
    "sess = tf.Session()"
   ]
  },
  {
   "cell_type": "code",
   "execution_count": 3,
   "metadata": {},
   "outputs": [
    {
     "name": "stdout",
     "output_type": "stream",
     "text": [
      "WARNING:tensorflow:From /home/pplank/miniconda3/envs/py36_tf_14_gpu/lib/python3.6/site-packages/tensorflow/python/training/saver.py:1276: checkpoint_exists (from tensorflow.python.training.checkpoint_management) is deprecated and will be removed in a future version.\n",
      "Instructions for updating:\n",
      "Use standard file APIs to check for files with this prefix.\n",
      "INFO:tensorflow:Restoring parameters from ./sMNIST_LSTM/sMNIST_standardLSTM\n"
     ]
    }
   ],
   "source": [
    "# load a saved model\n",
    "saver = tf.train.import_meta_graph('./sMNIST_LSTM/sMNIST_standardLSTM.meta')\n",
    "saver.restore(sess,tf.train.latest_checkpoint('./sMNIST_LSTM/'))\n",
    "\n",
    "graph = tf.get_default_graph()\n",
    "X = graph.get_tensor_by_name(\"X:0\")\n",
    "Y = graph.get_tensor_by_name(\"Y:0\")\n",
    "accuracy = graph.get_tensor_by_name(\"accuracy_op:0\")\n",
    "\n",
    "# Calculate accuracy for 128 mnist test images\n",
    "test_len = 10000\n",
    "batch_size = 1"
   ]
  },
  {
   "cell_type": "code",
   "execution_count": 4,
   "metadata": {},
   "outputs": [
    {
     "name": "stdout",
     "output_type": "stream",
     "text": [
      "Warmup:  3.303525686264038\n",
      "Warmup:  0.0396273136138916\n",
      "Warmup:  0.03912687301635742\n",
      "\n",
      "\n",
      "Testing Accuracy: 0.102769166\n",
      "Runtime: 397.3108s (10000 samples with batch size 1)\n",
      "Average runtime per batch: 39.7311ms\n",
      "Average runtime per sample: 39731.0826µs\n"
     ]
    }
   ],
   "source": [
    "test_accuracy = []\n",
    "execution_time = []\n",
    "image_cnt = 0\n",
    "\n",
    "# warm up\n",
    "for i in range(0, 3):\n",
    "    test_data = mnist.test.images[image_cnt:image_cnt+batch_size].reshape((batch_size, timesteps, num_input))\n",
    "    test_label = mnist.test.labels[image_cnt:image_cnt+batch_size]\n",
    "    image_cnt = image_cnt + batch_size\n",
    "    start = time.time()\n",
    "    test_accuracy.append(sess.run(accuracy, feed_dict={X: test_data, Y: test_label}))\n",
    "    end = time.time()\n",
    "    print(\"Warmup: \", end-start)\n",
    "\n",
    "print()\n",
    "print()\n",
    "time.sleep(3)\n",
    "\n",
    "image_cnt = 0\n",
    "# power measurement\n",
    "call = \"nvidia-smi -i 0 -lms 10 --format=csv,noheader --query-gpu=timestamp,power.draw -f powerusage_smnist.txt\"\n",
    "process = subprocess.Popen(call.split())\n",
    "time.sleep(5)\n",
    "\n",
    "for i in range(0, int(test_len/batch_size)):\n",
    "    test_data = mnist.test.images[image_cnt:image_cnt+batch_size].reshape((batch_size, timesteps, num_input))\n",
    "    test_label = mnist.test.labels[image_cnt:image_cnt+batch_size]\n",
    "    image_cnt = image_cnt + batch_size\n",
    "    start = time.time()\n",
    "    test_accuracy.append(sess.run(accuracy, feed_dict={X: test_data, Y: test_label}))\n",
    "    end = time.time()\n",
    "    execution_time.append(end-start)\n",
    "    \n",
    "time.sleep(5)\n",
    "process.terminate()\n",
    "\n",
    "print(\"Testing Accuracy:\", np.mean(test_accuracy))\n",
    "print(\"Runtime: {:.4f}s ({} samples with batch size {})\".format(np.sum(execution_time), test_len, batch_size))\n",
    "print(\"Average runtime per batch: {:.4f}ms\".format(np.mean(execution_time)*1000))\n",
    "print(\"Average runtime per sample: {:.4f}µs\".format(np.sum(execution_time)/test_len*1000*1000))"
   ]
  },
  {
   "cell_type": "code",
   "execution_count": 5,
   "metadata": {},
   "outputs": [
    {
     "data": {
      "image/png": "[encoded data removed]",
      "text/plain": [
       "<Figure size 432x288 with 1 Axes>"
      ]
     },
     "metadata": {
      "needs_background": "light"
     },
     "output_type": "display_data"
    },
    {
     "name": "stdout",
     "output_type": "stream",
     "text": [
      "38199\n"
     ]
    },
    {
     "data": {
      "image/png": "[encoded data removed]",
      "text/plain": [
       "<Figure size 432x288 with 1 Axes>"
      ]
     },
     "metadata": {
      "needs_background": "light"
     },
     "output_type": "display_data"
    },
    {
     "name": "stdout",
     "output_type": "stream",
     "text": [
      "37239\n",
      "Mean power:  68.49993313461692\n"
     ]
    }
   ],
   "source": [
    "results = []\n",
    "\n",
    "with open('powerusage_smnist.txt') as f:\n",
    "    lines=f.readlines()\n",
    "    for line in lines:\n",
    "        power = float(line.split(',')[1].split('W')[0])\n",
    "        results.append(power)\n",
    "\n",
    "plt.figure()\n",
    "plt.plot(results)\n",
    "plt.xlabel('measurement steps (100ms)')\n",
    "plt.ylabel('power (W)')\n",
    "plt.show()\n",
    "\n",
    "print(len(results))\n",
    "\n",
    "workload_start=500\n",
    "workload_end=-460\n",
    "\n",
    "plt.figure()\n",
    "plt.plot(results[workload_start:workload_end])\n",
    "plt.xlabel('measurement steps (10ms)')\n",
    "plt.ylabel('power (W)')\n",
    "plt.show()\n",
    "\n",
    "print(len(results[workload_start:workload_end]))\n",
    "print('Mean power: ', np.mean(results[workload_start:workload_end]))"
   ]
  },
  {
   "cell_type": "code",
   "execution_count": 6,
   "metadata": {},
   "outputs": [
    {
     "name": "stdout",
     "output_type": "stream",
     "text": [
      "Dynamic mean power:  33.92655\n"
     ]
    }
   ],
   "source": [
    "print('Dynamic mean power: ', np.mean(results[0:400]))"
   ]
  },
  {
   "cell_type": "code",
   "execution_count": null,
   "metadata": {},
   "outputs": [],
   "source": []
  }
 ],
 "metadata": {
  "kernelspec": {
   "display_name": "Python 3.6",
   "language": "python",
   "name": "python3.6"
  },
  "language_info": {
   "codemirror_mode": {
    "name": "ipython",
    "version": 3
   },
   "file_extension": ".py",
   "mimetype": "text/x-python",
   "name": "python",
   "nbconvert_exporter": "python",
   "pygments_lexer": "ipython3",
   "version": "3.6.13"
  }
 },
 "nbformat": 4,
 "nbformat_minor": 4
}
