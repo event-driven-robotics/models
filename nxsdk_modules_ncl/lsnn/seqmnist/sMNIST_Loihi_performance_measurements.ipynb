{
 "cells": [
  {
   "cell_type": "code",
   "execution_count": 1,
   "metadata": {},
   "outputs": [],
   "source": [
    "# Copyright © 2018-2021 Intel Corporation All rights reserved.\n",
    "#\n",
    "# Redistribution and use in source and binary forms, with or without\n",
    "# modification, are permitted provided that the following conditions\n",
    "# are met:\n",
    "#   * Redistributions of source code must retain the above copyright\n",
    "#     notice, this list of conditions and the following disclaimer.\n",
    "#   * Redistributions in binary form must reproduce the above copyright\n",
    "#     notice, this list of conditions and the following disclaimer in\n",
    "#     the documentation and/or other materials provided with the\n",
    "#     distribution.\n",
    "#   * Neither the name of Intel Corporation nor the names of its\n",
    "#     contributors may be used to endorse or promote products derived\n",
    "#     from this software without specific prior written permission.\n",
    "#\n",
    "# THIS SOFTWARE IS PROVIDED BY THE COPYRIGHT HOLDERS AND CONTRIBUTORS\n",
    "# \"AS IS\" AND ANY EXPRESS OR IMPLIED WARRANTIES, INCLUDING, BUT NOT\n",
    "# LIMITED TO, THE IMPLIED WARRANTIES OF MERCHANTABILITY AND FITNESS FOR\n",
    "# A PARTICULAR PURPOSE ARE DISCLAIMED. IN NO EVENT SHALL THE COPYRIGHT\n",
    "# OWNER OR CONTRIBUTORS BE LIABLE FOR ANY DIRECT, INDIRECT, INCIDENTAL,\n",
    "# SPECIAL, EXEMPLARY, OR CONSEQUENTIAL DAMAGES (INCLUDING, BUT NOT\n",
    "# LIMITED TO, PROCUREMENT OF SUBSTITUTE GOODS OR SERVICES; LOSS OF USE,\n",
    "# DATA, OR PROFITS; OR BUSINESS INTERRUPTION) HOWEVER CAUSED AND ON ANY\n",
    "# THEORY OF LIABILITY, WHETHER IN CONTRACT, STRICT LIABILITY, OR TORT\n",
    "# (INCLUDING NEGLIGENCE OR OTHERWISE) ARISING IN ANY WAY OUT OF THE USE\n",
    "# OF THIS SOFTWARE, EVEN IF ADVISED OF THE POSSIBILITY OF SUCH DAMAGE."
   ]
  },
  {
   "cell_type": "markdown",
   "metadata": {},
   "source": [
    "## Legal Information\n",
    "\n",
    "This document contains the general insights and opinions of Intel Corporation (“Intel”). The information in this document is provided for information only and is not to be relied upon for any other purpose than educational. Intel makes no representations or warranties regarding the accuracy or completeness of the information in this document. Intel accepts no duty to update this document based on more current information. Intel is not liable for any damages, direct or indirect, consequential or otherwise, that may arise, directly or indirectly, from the use or misuse of the information in this document.\n",
    "\n",
    "Intel technologies’ features and benefits depend on system configuration and may require enabled hardware, software or service activation. Learn more at intel.com, or from the OEM or retailer.\n",
    "\n",
    "No computer system can be absolutely secure.  No license (express or implied, by estoppel or otherwise) to any intellectual property rights is granted by this document.  Intel, the Intel logo, Core, and Xeon are trademarks of Intel Corporation in the United States and other countries.  \n",
    "*Other names and brands may be claimed as the property of others\n",
    "\n",
    "Copyright © 2018-2021 Intel Corporation."
   ]
  },
  {
   "cell_type": "markdown",
   "metadata": {},
   "source": [
    "# Power and Performance measurements on Loihi solving sequential MNIST\n",
    "\n",
    "This jupyter notebook shows how the power and performance numbers for a network solving sequential MNIST on Loihi were measured and processed.\n",
    "\n",
    "For further information on the problem and the network please take a look at the tutorial smnist_tutorial.ipynb in the lsnn/tutorials folder.\n",
    "\n",
    "In order to run this jupyter notebook one needs access to the NxSDK framework and a Loihi system. \n"
   ]
  },
  {
   "cell_type": "code",
   "execution_count": 2,
   "metadata": {},
   "outputs": [],
   "source": [
    "%config IPCompleter.greedy=True\n",
    "import sys\n",
    "sys.path.append('/home/pplank/nxsdk-nxsdk-submission/nxsdk-nxsdk')\n",
    "import os\n",
    "import numpy as np\n",
    "import matplotlib.pyplot as plt\n",
    "\n",
    "import nxsdk.api.n2a as nx\n",
    "from nxsdk_modules.lsnn.apps.seqmnist.seq_img_classifier import SequentialImageClassifierLsnn\n",
    "from nxsdk_modules.lsnn.apps.seqmnist.benchmark.smnist_benchmark import SequentialImageClassifierLsnn_bench\n",
    "from nxsdk_modules.lsnn.apps.seqmnist.seq_mnist import loadMnistData, loadWeightsAndDelays, showWeights, showImgs\n",
    "from nxsdk_modules.lsnn.apps.seqmnist.benchmark.smnist_benchmark import performBenchmark, plotResultTable\n",
    "from nxsdk.utils.env_var_context_manager import setEnvWithinContext\n",
    "from nxsdk.api.enums.api_enums import ProbeParameter\n",
    "from nxsdk.graph.monitor.probes import PerformanceProbeCondition"
   ]
  },
  {
   "cell_type": "code",
   "execution_count": 3,
   "metadata": {},
   "outputs": [],
   "source": [
    "def runSequentialMnist(wgtDir, numSamples, batchSize, numCores=1):\n",
    "    \"\"\"Sets up and executes SequentialImageClassifier LSNN network to\\\n",
    "        classify MNIST images on the test set. Used for benchmarking.\n",
    "\n",
    "        :param string wgtDir: directory which contains the weight matrices for\\\n",
    "        the network\n",
    "        :param int numSamples: amount of images which should be processed\n",
    "        :param int batchSize: batchSize of the SequentialImageClassifierLsnn\n",
    "        :param int numCores: amount of cores the network should be copied\n",
    "        \"\"\"\n",
    "\n",
    "    # Specify data directory\n",
    "    dataDir = os.path.join('/home/pplank/nxsdk-nxsdk/nxsdk_modules/lsnn/apps/seqmnist/weights', wgtDir)\n",
    "    # MNIST images are 28 x 28 in size\n",
    "    imgDx = imgDy = 28\n",
    "\n",
    "    # Load input, recurrent and output layer weights\n",
    "    wIn, wRec, wOut = loadWeightsAndDelays(dataDir)\n",
    "\n",
    "    # Initialize LSSN network\n",
    "    sqic = SequentialImageClassifierLsnn_bench(wIn=wIn, wRec=wRec, wOut=wOut,\n",
    "                                               numInput=80, numRegular=140,\n",
    "                                               numAdaptive=100, numOutput=10,\n",
    "                                               cueDuration=56,\n",
    "                                               imageSize=imgDx * imgDy,\n",
    "                                               batchSize=batchSize,\n",
    "                                               numCores=numCores)\n",
    "\n",
    "    sqic.snipsDir = os.path.join('/home/pplank/nxsdk-nxsdk-clean/nxsdk-nxsdk/nxsdk_modules/lsnn/apps/seqmnist/benchmark/snips')\n",
    "\n",
    "    # Load a random set of MNIST test set images and pass to LSNN\n",
    "    inputs, targets = loadMnistData('test')\n",
    "    np.random.seed(0)\n",
    "    imgIdx = np.random.choice(range(0, 10000), numSamples, False)\n",
    "    inputs, targets = inputs[imgIdx, :], targets[imgIdx]\n",
    "    \n",
    "    # setup some probes\n",
    "    probeParams = [nx.ProbeParameter.COMPARTMENT_VOLTAGE]\n",
    "    probeCond = nx.IntervalProbeCondition(dt=1, tStart=1)\n",
    "\n",
    "    sqic.generateNetwork()\n",
    "\n",
    "    eProbe = sqic.board.probe(\n",
    "        probeType=ProbeParameter.ENERGY,\n",
    "        probeCondition=PerformanceProbeCondition(\n",
    "            tStart=1,\n",
    "            tEnd=numSamples * 840,\n",
    "            bufferSize=1024,\n",
    "            binSize=200))\n",
    "    \n",
    "    # Execute network: Generates spikes from images and injects into LSNN\n",
    "    sqic.classify(inputs, targets)\n",
    "\n",
    "    return eProbe, sqic.board, sqic"
   ]
  },
  {
   "cell_type": "code",
   "execution_count": 4,
   "metadata": {},
   "outputs": [],
   "source": [
    "# name of the folder with the trainend weights\n",
    "wgtDirName = 'v25_94per'"
   ]
  },
  {
   "cell_type": "code",
   "execution_count": 5,
   "metadata": {
    "scrolled": false
   },
   "outputs": [
    {
     "name": "stdout",
     "output_type": "stream",
     "text": [
      "\u001b[1;30mWARNING\u001b[0m:\u001b[34mDRV\u001b[0m:  \u001b[33melementType would be deprecated in 0.9 in favor of messageSize, which provides more flexibility\u001b[0m\n",
      "\u001b[1;30mWARNING\u001b[0m:\u001b[34mDRV\u001b[0m:  \u001b[33melementType would be deprecated in 0.9 in favor of messageSize, which provides more flexibility\u001b[0m\n",
      "\u001b[1;30mWARNING\u001b[0m:\u001b[34mDRV\u001b[0m:  \u001b[33melementType would be deprecated in 0.9 in favor of messageSize, which provides more flexibility\u001b[0m\n",
      "\u001b[1;30mWARNING\u001b[0m:\u001b[34mDRV\u001b[0m:  \u001b[33melementType would be deprecated in 0.9 in favor of messageSize, which provides more flexibility\u001b[0m\n",
      "\u001b[1;30mWARNING\u001b[0m:\u001b[34mDRV\u001b[0m:  \u001b[33melementType would be deprecated in 0.9 in favor of messageSize, which provides more flexibility\u001b[0m\n",
      "\u001b[1;30mWARNING\u001b[0m:\u001b[34mDRV\u001b[0m:  \u001b[33melementType would be deprecated in 0.9 in favor of messageSize, which provides more flexibility\u001b[0m\n",
      "\u001b[1;30mINFO\u001b[0m:\u001b[34mDRV\u001b[0m:  SLURM is being run in background\n",
      "\u001b[1;30mINFO\u001b[0m:\u001b[34mDRV\u001b[0m:  Connecting to 134.134.68.22:37219\n",
      "\u001b[1;30mINFO\u001b[0m:\u001b[34mDRV\u001b[0m:      Host server up..............Done 0.24s\n",
      "\u001b[1;30mINFO\u001b[0m:\u001b[34mDRV\u001b[0m:      Encoding axons/synapses.....Done 0.03s\n",
      "\u001b[1;30mINFO\u001b[0m:\u001b[34mDRV\u001b[0m:      Compiling Embedded snips....Done 0.64s\n",
      "\u001b[1;30mINFO\u001b[0m:\u001b[34mDRV\u001b[0m:      Compiling MPDS Registers....Done 0.95ms\n",
      "\u001b[1;30mINFO\u001b[0m:\u001b[34mDRV\u001b[0m:      Compiling Register Probes...Done 0.74ms\n",
      "\u001b[1;30mINFO\u001b[0m:\u001b[34mDRV\u001b[0m:      Compiling Spike Probes......Done 0.68ms\n",
      "\u001b[1;30mINFO\u001b[0m:\u001b[34mHST\u001b[0m:  Args chip=0 cpu=0 /home/pplank/lava_env/lib/python3.8/site-packages/nxsdk/driver/compilers/../../../temp/1627677888.408643/launcher_chip0_lmt0.bin --chips=1 --remote-relay=0 --epoch=0 --cpu-active-ratio=1 \n",
      "\u001b[1;30mINFO\u001b[0m:\u001b[34mHST\u001b[0m:  Nx...\n",
      "\u001b[1;30mINFO\u001b[0m:\u001b[34mDRV\u001b[0m:      Booting up..................Done 0.71s\n",
      "\u001b[1;30mINFO\u001b[0m:\u001b[34mDRV\u001b[0m:      Encoding probes.............Done 0.83ms\n",
      "\u001b[1;30mINFO\u001b[0m:\u001b[34mDRV\u001b[0m:      Transferring probes.........Done 8.77ms\n",
      "\u001b[1;30mINFO\u001b[0m:\u001b[34mDRV\u001b[0m:      Configuring registers.......Done 0.07s\n",
      "\u001b[1;30mINFO\u001b[0m:\u001b[34mDRV\u001b[0m:      Transferring spikes.........Done 0.70ms\n",
      "[==========] 100%\n",
      "\u001b[1;30mINFO\u001b[0m:\u001b[34mDRV\u001b[0m:      Executing...................Done 0.03s\n",
      "\u001b[1;30mINFO\u001b[0m:\u001b[34mDRV\u001b[0m:      Processing timeseries.......Done 0.03s\n",
      "\u001b[1;30mINFO\u001b[0m:\u001b[34mHST\u001b[0m:  chip=0 cpu=0 halted, status=0x0\n"
     ]
    }
   ],
   "source": [
    "with setEnvWithinContext(BOARD='ncl-ghrd-01'):\n",
    "    # Execute network: Generates spikes from images and injects into LSNN\n",
    "    numSamples = 200  # run 200 images\n",
    "    etProbe, board, sqic = runSequentialMnist(wgtDirName, numSamples=numSamples,\n",
    "                                batchSize=10, numCores=1)"
   ]
  },
  {
   "cell_type": "code",
   "execution_count": 6,
   "metadata": {},
   "outputs": [
    {
     "name": "stdout",
     "output_type": "stream",
     "text": [
      "Classification accuracy of 200 samples: 94.50%\n"
     ]
    }
   ],
   "source": [
    "# Show results\n",
    "sqic.printClassification()"
   ]
  },
  {
   "cell_type": "code",
   "execution_count": 7,
   "metadata": {},
   "outputs": [
    {
     "data": {
      "image/png": "[encoded data removed]",
      "text/plain": [
       "<Figure size 720x360 with 2 Axes>"
      ]
     },
     "metadata": {
      "needs_background": "light"
     },
     "output_type": "display_data"
    },
    {
     "name": "stdout",
     "output_type": "stream",
     "text": [
      "Target labels:  [1 3 8 0 9 8 7 3 4 4 2]\n",
      "Predicted labels:  [7 5 5 8 3 0 9 2 8 0 3]\n"
     ]
    }
   ],
   "source": [
    "# some wrong classifications\n",
    "# get idx of misclassified images\n",
    "idx_list = np.where(sqic.targets != sqic.classifications)[0]\n",
    "\n",
    "# show the target images\n",
    "target_img = sqic.inputs[idx_list]\n",
    "\n",
    "showImgs(target_img, 28, 28)\n",
    "print(\"Target labels: \", sqic.targets[idx_list])\n",
    "print(\"Predicted labels: \", sqic.classifications[idx_list])"
   ]
  },
  {
   "cell_type": "code",
   "execution_count": 8,
   "metadata": {},
   "outputs": [
    {
     "name": "stdout",
     "output_type": "stream",
     "text": [
      "Total number of time steps:  168000\n",
      "Total time (µs): 2797112.0000001984\n",
      "Mean time per time step (µs): 16.649476190477372\n",
      "Time per inference (µs) (200 samples): 13985.560000000993\n",
      "\n",
      "Dynamic power (mW):  24.778585421177354\n",
      "Static power (mW):  1.1553919470152128\n",
      "Total power (mW):  25.933977368192565\n",
      "\n",
      "Latency per inference (ms):  13.985560000000993\n",
      "Total Energy per inference (mJ):  0.362701196521525\n",
      "EDP (µJs):  5.0725793460239395\n",
      "\n",
      "Power in detail:\n",
      "x86 static power (mW):  0.1490041932759066\n",
      "x86 dynamic power (mW):  23.195124828751943\n",
      "Core static power (mW):  1.0063877537393062\n",
      "Core dynamic power (mW):  1.5834605924254124\n"
     ]
    }
   ],
   "source": [
    "# calculate power and performance \n",
    "runtime = 840*numSamples  # total number of exeucted time steps \n",
    "total = etProbe.totalTimePerTimeStep[0:runtime]  # time series of total time per time step\n",
    "host = etProbe.hostTimePerTimeStep[0:runtime]  # time series of host time per time step\n",
    "\n",
    "effective = total - host  # time series of effective time per time step (on Loihi chip)\n",
    "latency = np.sum(effective) / numSamples  # mean latency of classifying one image\n",
    "\n",
    "print('Total number of time steps: ', runtime)\n",
    "print('Total time (µs):', np.sum(effective))\n",
    "print('Mean time per time step (µs):', np.mean(effective))\n",
    "print('Time per inference (µs) ({} samples): {}'.format(numSamples, np.sum(effective) / numSamples))\n",
    "print()\n",
    "# calculate the energy-delay-product (EDP)\n",
    "stats = board.energyTimeMonitor.powerProfileStats\n",
    "\n",
    "n_dynamic = stats['power']['core']['dynamic']\n",
    "n_static = stats['power']['core']['static']\n",
    "\n",
    "x86_dynamic = stats['power']['lakemont']['dynamic']\n",
    "x86_static = stats['power']['lakemont']['static']\n",
    "\n",
    "dynamic = n_dynamic + x86_dynamic\n",
    "static = n_static + x86_static\n",
    "\n",
    "total = dynamic + static\n",
    "energy = latency * total / 10**6\n",
    "edp = energy * latency / 1000\n",
    "\n",
    "print(\"Dynamic power (mW): \", dynamic)\n",
    "print(\"Static power (mW): \", static)\n",
    "print(\"Total power (mW): \", total)\n",
    "print()\n",
    "print(\"Latency per inference (ms): \", latency / 1000)\n",
    "print(\"Total Energy per inference (mJ): \", energy)\n",
    "print(\"EDP (µJs): \", edp)\n",
    "print()\n",
    "\n",
    "print(\"Power in detail:\")\n",
    "print(\"x86 static power (mW): \", x86_static)\n",
    "print(\"x86 dynamic power (mW): \", x86_dynamic)\n",
    "print(\"Core static power (mW): \", n_static)\n",
    "print(\"Core dynamic power (mW): \", n_dynamic)"
   ]
  },
  {
   "cell_type": "code",
   "execution_count": null,
   "metadata": {},
   "outputs": [],
   "source": []
  }
 ],
 "metadata": {
  "kernelspec": {
   "display_name": "local-venv",
   "language": "python",
   "name": "local-venv"
  },
  "language_info": {
   "codemirror_mode": {
    "name": "ipython",
    "version": 3
   },
   "file_extension": ".py",
   "mimetype": "text/x-python",
   "name": "python",
   "nbconvert_exporter": "python",
   "pygments_lexer": "ipython3",
   "version": "3.8.10"
  }
 },
 "nbformat": 4,
 "nbformat_minor": 2
}
